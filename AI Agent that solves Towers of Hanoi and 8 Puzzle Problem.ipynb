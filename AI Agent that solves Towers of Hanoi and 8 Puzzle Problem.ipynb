{
 "cells": [
  {
   "cell_type": "markdown",
   "metadata": {},
   "source": [
    "## Solving Towers of Hanoi and 8 Puzzle Problem with Iterative-Deepening Search"
   ]
  },
  {
   "cell_type": "markdown",
   "metadata": {},
   "source": [
    "Tejaswini Kancharla"
   ]
  },
  {
   "cell_type": "markdown",
   "metadata": {},
   "source": [
    "### Overview"
   ]
  },
  {
   "cell_type": "markdown",
   "metadata": {},
   "source": [
    "In this jupyter notebook, we implement the following functions:\n",
    "\n",
    "  * `iterativeDeepeningSearch(startState, goalState, actionsF, takeActionF, maxDepth)`\n",
    "  * `depthLimitedSearch(startState, goalState, actionsF, takeActionF, depthLimit)`\n",
    "  \n",
    "`depthLimitedSearch` is called by `iterativeDeepeningSearch` with `depthLimit`s of $0, 1, \\ldots, $ `maxDepth`. Both must return either the solution path as a list of states, or the strings `cutoff` or `failure`.  `failure` signifies that all states were searched and the goal was not found. \n",
    "\n",
    "Each receives the arguments\n",
    "\n",
    "  * the starting state, \n",
    "  * the goal state,\n",
    "  * a function `actionsF` that is given a state and returns a list of valid actions from that state,\n",
    "  * a function `takeActionF` that is given a state and an action and returns the new state that results from applying the action to the state,\n",
    "  * either a `depthLimit` for `depthLimitedSearch`, or `maxDepth` for `iterativeDeepeningSearch`."
   ]
  },
  {
   "cell_type": "markdown",
   "metadata": {},
   "source": [
    "We implement the state of the puzzle as a list of integers. 0 represents the empty position. \n",
    "\n",
    "Required functions for the 8-puzzle are the following.\n",
    "\n",
    "  * `findBlank_8p(state)`: return the row and column index for the location of the blank (the 0 value).\n",
    "  * `actionsF_8p(state)`: returns a list of up to four valid actions that can be applied in `state`. Return them in the order `left`, `right`, `up`, `down`, though only if each one is a valid action.\n",
    "  * `takeActionF_8p(state, action)`: return the state that results from applying `action` in `state`.\n",
    "  * `printPath_8p(startState, goalState, path)`: print a solution path in a readable form.  You choose the format."
   ]
  },
  {
   "cell_type": "code",
   "execution_count": 51,
   "metadata": {},
   "outputs": [],
   "source": [
    "import numpy as np\n",
    "import copy\n",
    "import random\n",
    "def printState_8p(startState):\n",
    "    dic={0:'-',1:'1',2:'2',3:'3',4:'4',5:'5',6:'6',7:'7',8:'8',9:'9',10:'10',11:'11',12:'12',13:'13',14:'14',15:'15'}\n",
    "    start=copy.copy(startState)\n",
    "    if len(start)==9:\n",
    "        while start!=[]:\n",
    "            l=start[:3]\n",
    "            for i in l:\n",
    "                print(dic[i],end=\" \")\n",
    "            print(\" \")    \n",
    "            start=start[3:]   \n",
    "    else:\n",
    "        while start!=[]:\n",
    "            l=start[:4]\n",
    "            for i in l:\n",
    "                print(dic[i],end=\" \")\n",
    "            print(\" \")    \n",
    "            start=start[4:]   \n",
    "\n",
    "def findBlank_8p(startState):\n",
    "    mat=[]\n",
    "    while startState!=[]:\n",
    "        mat.append(startState[:3])  \n",
    "        startState=startState[3:]   \n",
    "    rep=np.matrix(mat)\n",
    "    i,j = np.where(rep==0)\n",
    "    t=(int(i),int(j))\n",
    "    return(t) \n",
    "\n",
    "def actionsF_8p(startState):\n",
    "    k=findBlank_8p(startState)\n",
    "    actions=[\"left\",\"right\",\"up\",\"down\"]\n",
    "    if k[0]==0:\n",
    "        actions.remove(\"up\")\n",
    "    elif k[0]==2:\n",
    "        actions.remove(\"down\")\n",
    "    if k[1]==0:\n",
    "        actions.remove(\"left\")\n",
    "    elif k[1]==2:\n",
    "        actions.remove(\"right\")    \n",
    "    return actions       \n",
    "\n",
    "def takeActionF_8p(startState, a):\n",
    "    if a in actionsF_8p(startState):\n",
    "        k=findBlank_8p(startState)\n",
    "        start=copy.copy(startState)\n",
    "        if a ==\"down\":\n",
    "            p=3*k[0]+k[1]    # p = present position of blank\n",
    "            d=p+3 # d = desired position of blank  \n",
    "            x=start[d]\n",
    "            start[d]=start[p]\n",
    "            start[p]=x\n",
    "            return start\n",
    "        elif a ==\"up\":\n",
    "            p=3*k[0]+k[1]    # p = present position of blank\n",
    "            d=p-3          # d = desired position of blank  \n",
    "            x=start[d]\n",
    "            start[d]=start[p]\n",
    "            start[p]=x\n",
    "            return start\n",
    "        elif a ==\"left\":\n",
    "            p=3*k[0]+k[1]    # p = present position of blank\n",
    "            d=p-1          # d = desired position of blank  \n",
    "            x=start[d]\n",
    "            start[d]=start[p]\n",
    "            start[p]=x\n",
    "            return start\n",
    "        elif a ==\"right\":\n",
    "            p=3*k[0]+k[1]    # p = present position of blank\n",
    "            d=p+1          # d = desired position of blank  \n",
    "            x=start[d]\n",
    "            start[d]=start[p]\n",
    "            start[p]=x\n",
    "            return start\n",
    "    else:\n",
    "        print(\"Requested action is not possible\")\n",
    "\n",
    "\n",
    "def printPath_8p(startState,goalState,path):\n",
    "    print(\"Path from\")\n",
    "    printState_8p(startState)\n",
    "    print(\"to\")\n",
    "    printState_8p(goalState)\n",
    "    print(\"is \",len(path),\" nodes long:\")\n",
    "    for p in path:\n",
    "        print(\" \")\n",
    "        printState_8p(p)\n",
    "        \n",
    "    \n",
    "def depthLimitedSearch(state, goalState, actionsF, takeActionF, depthLimit):\n",
    "    if state == goalState:\n",
    "        return []\n",
    "    if depthLimit == 0:\n",
    "        return(\"cutoff\")\n",
    "    cutoffOccurred = False\n",
    "    for action in actionsF(state):\n",
    "        childState = takeActionF(state, action)\n",
    "        result = depthLimitedSearch(childState, goalState, actionsF, takeActionF, depthLimit-1)\n",
    "        if result == 'cutoff':\n",
    "            cutoffOccurred = True\n",
    "        elif result != 'failure':\n",
    "            result=[childState]+result\n",
    "            return result\n",
    "    if cutoffOccurred==True:\n",
    "        return 'cutoff'\n",
    "    else:\n",
    "        return 'failure'\n",
    "    \n",
    "def iterativeDeepeningSearch(startState, goalState, actionsF, takeActionF, maxDepth):\n",
    "    for depth in range(maxDepth):\n",
    "        result = depthLimitedSearch(startState, goalState, actionsF, takeActionF, depth)\n",
    "        if result == 'failure':\n",
    "            return 'failure'\n",
    "        if result != 'cutoff':\n",
    "            result=[startState]+result       \n",
    "            return result\n",
    "    return 'cutoff'  \n",
    "\n",
    "def randomStartState(goalState, actionsF, takeActionF, nSteps):\n",
    "    state = goalState\n",
    "    for i in range(nSteps):\n",
    "        state = takeActionF(state, random.choice(actionsF(state)))\n",
    "    return state\n",
    "\n",
    "\n",
    "# NECESSARY FUNCTIONS FOR TOWERS OF HANOI\n",
    "import numpy as np\n",
    "import copy\n",
    "class initialState:\n",
    "    def __init__(self,n):\n",
    "        self.s1,self.s2,self.s3=[],[],[]\n",
    "        for i in range(n):\n",
    "            self.s1=[i+1]+self.s1\n",
    "    def __repr__(self):\n",
    "        return 'Towers({}, {}, {})'.format(self.s1, self.s2, self.s3)\n",
    "    \n",
    "\n",
    "class targetState:\n",
    "    def __init__(self,n):\n",
    "        self.s1,self.s2,self.s3=[],[],[]\n",
    "        for i in range(n):\n",
    "            self.s3=[i+1]+self.s3\n",
    "    def __repr__(self):\n",
    "        return 'goal state is ({}, {}, {})'.format(self.s1, self.s2, self.s3) \n",
    "    def __eq__(self, other): \n",
    "        if self.s1==other.s1 and self.s2==other.s2 and self.s3==other.s3:\n",
    "              return(\"True\")\n",
    "\n",
    "def actionsF(startState):\n",
    "    actions=[]\n",
    "    if not startState.s1:\n",
    "        if startState.s2:\n",
    "            actions.append(\"s2 to s1\")\n",
    "        if startState.s3:    \n",
    "            actions.append(\"s3 to s1\")\n",
    "    else:\n",
    "        if startState.s2 and (startState.s1[-1]>startState.s2[-1]):\n",
    "            actions.append(\"s2 to s1\")\n",
    "        if startState.s3 and (startState.s1[-1]>startState.s3[-1]):\n",
    "            actions.append(\"s3 to s1\")   \n",
    "    if not startState.s2:\n",
    "        if startState.s1:\n",
    "            actions.append(\"s1 to s2\")\n",
    "        if startState.s3:    \n",
    "            actions.append(\"s3 to s2\")\n",
    "    else:\n",
    "        if startState.s1 and (startState.s2[-1]>startState.s1[-1]):\n",
    "            actions.append(\"s1 to s2\")\n",
    "        if startState.s3 and (startState.s2[-1]>startState.s3[-1]):\n",
    "            actions.append(\"s3 to s2\")       \n",
    "    if not startState.s3:\n",
    "        if startState.s1:\n",
    "            actions.append(\"s1 to s3\")\n",
    "        if startState.s2:    \n",
    "            actions.append(\"s2 to s3\") \n",
    "    else:\n",
    "        if startState.s1 and (startState.s3[-1]>startState.s1[-1]):\n",
    "            actions.append(\"s1 to s3\")\n",
    "        if startState.s2 and (startState.s3[-1]>startState.s2[-1]):\n",
    "            actions.append(\"s2 to s3\")\n",
    "    return(actions) \n",
    "\n",
    "def takeActionF(startState,action):\n",
    "    start=copy.deepcopy(startState)\n",
    "    if action==\"s1 to s2\" and start.s1:\n",
    "        start.s2.append(start.s1.pop())\n",
    "    elif action==\"s1 to s3\" and start.s1:\n",
    "        start.s3.append(start.s1.pop())\n",
    "    elif action==\"s2 to s1\" and start.s2:\n",
    "        start.s1.append(start.s2.pop())\n",
    "    elif action==\"s2 to s3\" and start.s2:\n",
    "        start.s3.append(start.s2.pop())\n",
    "    elif action==\"s3 to s1\" and start.s3:\n",
    "        start.s1.append(start.s3.pop())\n",
    "    elif action==\"s3 to s2\" and start.s3:\n",
    "        start.s2.append(start.s3.pop())\n",
    "    return(start)       "
   ]
  },
  {
   "cell_type": "markdown",
   "metadata": {},
   "source": [
    "### Description of Methods and Results\n",
    "\n",
    "\n",
    "### Depth Limited Search\n",
    "\n",
    "The Depth limited search is the modification of depth first search to prevent the infinite searching. The depth limited search limites the depth of the search using the depth argument. It takes arguments startState, goalState, actionsF and takeActionF and depth.\n",
    "\n",
    "* startState  : The present state of the game. It will be in state space representation which will be varied from game to game.\n",
    "* goalState   : This is the state which we need to arrive in the game. This could be either the winning state or next good state or even some random state which the user needs to be arrived. \n",
    "* actionsF    : This is a function used to generate the possible actions that can be performed from the startState.\n",
    "* takeActionF : This function applies the desired action on the startState and returns the modified state.\n",
    "* depth       : This is the maximum depth to which search can be performed. \n",
    "\n",
    "### Iterative Deepening Search\n",
    "\n",
    "Iterative Deepening Search is none other than performing the depth limited search iteratively increasing the depth until depth reaches some value or we end up finding the solution. Though this performs depth first search in every iteration it visits the nodes in the order of Breadth First Search thus provides the shortest path to the goalState.  \n",
    "\n",
    "* startState  : The present state of the game. It will be in state space representation which will be varied from game to game.\n",
    "* goalState   : This is the state which we need to arrive in the game. This could be either the winning state or next good state or even some random state which the user needs to be arrived. \n",
    "* actionsF    : This is a function used to generate the possible actions that can be performed from the startState.\n",
    "* takeActionF : This function applies the desired action on the startState and returns the modified state.\n",
    "* maxdepth    : This is the parameter that stops the iterations and the maximum depth we search in depth Limited Search. \n",
    "\n",
    "\n",
    "### 8 Puzzle Problem\n",
    "\n",
    "8-puzzle is a $3\\times3$ grid game where there will 8 number slides and one vacant space using which we need to get all the numbers in ascending order. You can have a maximum of 4 possible actions at the empty slide depending on its position. Our goal is to arrange numbers in ascending order using these actions. Depth Limited Search and Iterative Deepening Search could be used to play this game. The methods that must be defined to leverage Depth Limited Search and Iterative Deepening Search in playing this game are:\n",
    "\n",
    "* findBlank_8p(state): To return the row and column index for the location of the blank (the 0 value), I first converted the list representation into matrix using np.matrix and then used np.where method to find the position of blank.\n",
    "* actionsF_8p(state) : returns a list of up to four valid actions that can be applied in state. I used the findBlank_8p(state) function to get the position of the blank and then returned the possible actions on that state in the same order prescribed.\n",
    "* takeActionF_8p(state, action): It takes state and action as parameters, applies action to the state. This function applies the action on the state by swapping the slide with the position(action) we want to move the blank and returns the modified state.\n",
    "* printPath_8p(startState, goalState, path): It is used to print the solution path from startState to goalState. It is visual representation of all the actions performed on the states.\n",
    "\n",
    "\n",
    "### Towers of Hanoi:\n",
    "\n",
    "Towers of Hanoi is a game where you will have some towers and rings. At the beginning of the game you have all the rings on the first tower placed in such a way that the small ring lies on the big ring. The goal of the game is to get all the rings to the last tower such that the rings will be descending order. The constraints of the game are you could only move one ring at a time and you can only place the small ring on top of a big ring.\n",
    "\n",
    "My game always uses three towers, we can give the towers as input too but I didnot ant to do it.\n",
    "\n",
    "* Class initialState           : I used class data structure to represent the state of the game. It has three list attributes hich represents towers and the elements in them represent rings. This class initialises the startState of the towers of hanoi game when the number of rings we use is displayed. It also has method to represent the state and method to check equality.\n",
    "* class targetState            : It defines the goal state of the game. It has three list attributes hich represents towers and the elements in them represent rings.\n",
    "* actionsF(startState)         : This function generates all possible moves from the startState. I used strings of this kind to represent my actions \"s1 to s2\" (Move ring from tower s1 to s2). This method checks all possible moves for a normal state and returns actions  that are specific to our startState.\n",
    "* takeActionF(stratState,action): This action performs the required action and returns the modified state. It is done by popping and appending."
   ]
  },
  {
   "cell_type": "code",
   "execution_count": 52,
   "metadata": {},
   "outputs": [
    {
     "data": {
      "text/plain": [
       "[Towers([3, 2, 1], [], []),\n",
       " Towers([3, 2], [], [1]),\n",
       " Towers([3], [2], [1]),\n",
       " Towers([3], [2, 1], []),\n",
       " Towers([], [2, 1], [3]),\n",
       " Towers([1], [2], [3]),\n",
       " Towers([1], [], [3, 2]),\n",
       " Towers([], [], [3, 2, 1])]"
      ]
     },
     "execution_count": 52,
     "metadata": {},
     "output_type": "execute_result"
    }
   ],
   "source": [
    "startState=initialState(3)\n",
    "goalState=targetState(3)\n",
    "iterativeDeepeningSearch(startState,goalState,actionsF,takeActionF,8)"
   ]
  },
  {
   "cell_type": "markdown",
   "metadata": {},
   "source": [
    "Here are some example results."
   ]
  },
  {
   "cell_type": "code",
   "execution_count": 53,
   "metadata": {},
   "outputs": [
    {
     "data": {
      "text/plain": [
       "'cutoff'"
      ]
     },
     "execution_count": 53,
     "metadata": {},
     "output_type": "execute_result"
    }
   ],
   "source": [
    "startState=initialState(5)\n",
    "goalState=targetState(5)\n",
    "iterativeDeepeningSearch(startState,goalState,actionsF,takeActionF,10)"
   ]
  },
  {
   "cell_type": "code",
   "execution_count": 54,
   "metadata": {},
   "outputs": [],
   "source": [
    "startState = [1, 0, 3, 4, 2, 5, 6, 7, 8]"
   ]
  },
  {
   "cell_type": "code",
   "execution_count": 55,
   "metadata": {},
   "outputs": [
    {
     "name": "stdout",
     "output_type": "stream",
     "text": [
      "1 - 3  \n",
      "4 2 5  \n",
      "6 7 8  \n"
     ]
    }
   ],
   "source": [
    "printState_8p(startState)  # not a required function for this assignment, but it helps when implementing printPath_8p"
   ]
  },
  {
   "cell_type": "code",
   "execution_count": 56,
   "metadata": {},
   "outputs": [
    {
     "data": {
      "text/plain": [
       "(0, 1)"
      ]
     },
     "execution_count": 56,
     "metadata": {},
     "output_type": "execute_result"
    }
   ],
   "source": [
    "findBlank_8p(startState)"
   ]
  },
  {
   "cell_type": "code",
   "execution_count": 57,
   "metadata": {},
   "outputs": [
    {
     "data": {
      "text/plain": [
       "['left', 'right', 'down']"
      ]
     },
     "execution_count": 57,
     "metadata": {},
     "output_type": "execute_result"
    }
   ],
   "source": [
    "actionsF_8p(startState)"
   ]
  },
  {
   "cell_type": "code",
   "execution_count": 58,
   "metadata": {},
   "outputs": [
    {
     "data": {
      "text/plain": [
       "[1, 2, 3, 4, 0, 5, 6, 7, 8]"
      ]
     },
     "execution_count": 58,
     "metadata": {},
     "output_type": "execute_result"
    }
   ],
   "source": [
    "takeActionF_8p(startState, 'down')"
   ]
  },
  {
   "cell_type": "code",
   "execution_count": 59,
   "metadata": {},
   "outputs": [
    {
     "name": "stdout",
     "output_type": "stream",
     "text": [
      "1 2 3  \n",
      "4 - 5  \n",
      "6 7 8  \n"
     ]
    }
   ],
   "source": [
    "printState_8p(takeActionF_8p(startState, 'down'))"
   ]
  },
  {
   "cell_type": "code",
   "execution_count": 60,
   "metadata": {},
   "outputs": [],
   "source": [
    "goalState = takeActionF_8p(startState, 'down')"
   ]
  },
  {
   "cell_type": "code",
   "execution_count": 61,
   "metadata": {},
   "outputs": [],
   "source": [
    "newState = takeActionF_8p(startState, 'down')"
   ]
  },
  {
   "cell_type": "code",
   "execution_count": 62,
   "metadata": {},
   "outputs": [
    {
     "data": {
      "text/plain": [
       "True"
      ]
     },
     "execution_count": 62,
     "metadata": {},
     "output_type": "execute_result"
    }
   ],
   "source": [
    "newState == goalState"
   ]
  },
  {
   "cell_type": "code",
   "execution_count": 63,
   "metadata": {},
   "outputs": [
    {
     "data": {
      "text/plain": [
       "[1, 0, 3, 4, 2, 5, 6, 7, 8]"
      ]
     },
     "execution_count": 63,
     "metadata": {},
     "output_type": "execute_result"
    }
   ],
   "source": [
    "startState"
   ]
  },
  {
   "cell_type": "code",
   "execution_count": 64,
   "metadata": {},
   "outputs": [
    {
     "data": {
      "text/plain": [
       "[[0, 1, 3, 4, 2, 5, 6, 7, 8],\n",
       " [1, 0, 3, 4, 2, 5, 6, 7, 8],\n",
       " [1, 2, 3, 4, 0, 5, 6, 7, 8]]"
      ]
     },
     "execution_count": 64,
     "metadata": {},
     "output_type": "execute_result"
    }
   ],
   "source": [
    "path = depthLimitedSearch(startState, goalState, actionsF_8p, takeActionF_8p, 3)\n",
    "path"
   ]
  },
  {
   "cell_type": "markdown",
   "metadata": {},
   "source": [
    "Notice that `depthLimitedSearch` result is missing the start state.  This is inserted by `iterativeDeepeningSearch`.\n",
    "\n",
    "But, when we try `iterativeDeepeningSearch` to do the same search, it finds a shorter path!"
   ]
  },
  {
   "cell_type": "code",
   "execution_count": 65,
   "metadata": {
    "scrolled": true
   },
   "outputs": [
    {
     "data": {
      "text/plain": [
       "[[1, 0, 3, 4, 2, 5, 6, 7, 8], [1, 2, 3, 4, 0, 5, 6, 7, 8]]"
      ]
     },
     "execution_count": 65,
     "metadata": {},
     "output_type": "execute_result"
    }
   ],
   "source": [
    "startState = [1, 0, 3, 4, 2, 5, 6, 7, 8]\n",
    "path = iterativeDeepeningSearch(startState, goalState, actionsF_8p, takeActionF_8p, 3)\n",
    "path"
   ]
  },
  {
   "cell_type": "code",
   "execution_count": 79,
   "metadata": {},
   "outputs": [
    {
     "name": "stdout",
     "output_type": "stream",
     "text": [
      "Path from\n",
      "1 2 3 -  \n",
      "4 5 6 7  \n",
      "8 9 10 11  \n",
      "12 13 14  \n",
      "to\n",
      "1 2 3 4  \n",
      "5 - 6 7  \n",
      "8 9 10 11  \n",
      "12 13 14  \n",
      "is  3  nodes long:\n",
      " \n",
      "1 2 3 -  \n",
      "4 5 6 7  \n",
      "8 9 10 11  \n",
      "12 13 14  \n",
      " \n",
      "1 2 3 4  \n",
      "- 5 6 7  \n",
      "8 9 10 11  \n",
      "12 13 14  \n",
      " \n",
      "1 2 3 4  \n",
      "5 - 6 7  \n",
      "8 9 10 11  \n",
      "12 13 14  \n"
     ]
    }
   ],
   "source": [
    "startState = [1, 2, 3, 0, 4, 5, 6, 7, 8,9,10,11,12,13,14]\n",
    "goalState = [1,2,3,4,5,0,6,7,8,9,10,11,12,13,14]\n",
    "path =iterativeDeepeningSearch(startState, goalState, actionsF_8p, takeActionF_8p, 4)\n",
    "printPath_8p(startState, goalState, path)"
   ]
  },
  {
   "cell_type": "markdown",
   "metadata": {},
   "source": [
    "Also notice that the successor states are lists, not tuples.  This is okay, because the search functions for this assignment do not"
   ]
  },
  {
   "cell_type": "code",
   "execution_count": 67,
   "metadata": {},
   "outputs": [
    {
     "data": {
      "text/plain": [
       "'cutoff'"
      ]
     },
     "execution_count": 67,
     "metadata": {},
     "output_type": "execute_result"
    }
   ],
   "source": [
    "startState = [4, 7, 2, 1, 6, 5, 0, 3, 8]\n",
    "path = iterativeDeepeningSearch(startState, goalState, actionsF_8p, takeActionF_8p, 3)\n",
    "path"
   ]
  },
  {
   "cell_type": "markdown",
   "metadata": {},
   "source": [
    "Humm...maybe we can't reach the goal state from this state.  We need a way to randomly generate a valid start state."
   ]
  },
  {
   "cell_type": "code",
   "execution_count": 16,
   "metadata": {},
   "outputs": [],
   "source": [
    "import random"
   ]
  },
  {
   "cell_type": "code",
   "execution_count": 17,
   "metadata": {},
   "outputs": [
    {
     "data": {
      "text/plain": [
       "'left'"
      ]
     },
     "execution_count": 17,
     "metadata": {},
     "output_type": "execute_result"
    }
   ],
   "source": [
    "random.choice(['left', 'right'])"
   ]
  },
  {
   "cell_type": "code",
   "execution_count": 69,
   "metadata": {},
   "outputs": [],
   "source": [
    "def randomStartState(goalState, actionsF, takeActionF, nSteps):\n",
    "    state = goalState\n",
    "    for i in range(nSteps):\n",
    "        state = takeActionF(state, random.choice(actionsF(state)))\n",
    "    return state"
   ]
  },
  {
   "cell_type": "code",
   "execution_count": 74,
   "metadata": {},
   "outputs": [
    {
     "data": {
      "text/plain": [
       "[0, 2, 3, 1, 7, 5, 4, 6, 8]"
      ]
     },
     "execution_count": 74,
     "metadata": {},
     "output_type": "execute_result"
    }
   ],
   "source": [
    "goalState = [1, 2, 3, 4, 0, 5, 6, 7, 8]\n",
    "randomStartState(goalState, actionsF_8p, takeActionF_8p, 10)"
   ]
  },
  {
   "cell_type": "code",
   "execution_count": 75,
   "metadata": {},
   "outputs": [
    {
     "data": {
      "text/plain": [
       "[1, 5, 2, 3, 0, 8, 4, 6, 7]"
      ]
     },
     "execution_count": 75,
     "metadata": {},
     "output_type": "execute_result"
    }
   ],
   "source": [
    "startState = randomStartState(goalState, actionsF_8p, takeActionF_8p, 50)\n",
    "startState"
   ]
  },
  {
   "cell_type": "code",
   "execution_count": 76,
   "metadata": {},
   "outputs": [
    {
     "data": {
      "text/plain": [
       "[[1, 5, 2, 3, 0, 8, 4, 6, 7],\n",
       " [1, 5, 2, 0, 3, 8, 4, 6, 7],\n",
       " [1, 5, 2, 4, 3, 8, 0, 6, 7],\n",
       " [1, 5, 2, 4, 3, 8, 6, 0, 7],\n",
       " [1, 5, 2, 4, 3, 8, 6, 7, 0],\n",
       " [1, 5, 2, 4, 3, 0, 6, 7, 8],\n",
       " [1, 5, 2, 4, 0, 3, 6, 7, 8],\n",
       " [1, 0, 2, 4, 5, 3, 6, 7, 8],\n",
       " [1, 2, 0, 4, 5, 3, 6, 7, 8],\n",
       " [1, 2, 3, 4, 5, 0, 6, 7, 8],\n",
       " [1, 2, 3, 4, 0, 5, 6, 7, 8]]"
      ]
     },
     "execution_count": 76,
     "metadata": {},
     "output_type": "execute_result"
    }
   ],
   "source": [
    "path = iterativeDeepeningSearch(startState, goalState, actionsF_8p, takeActionF_8p, 20)\n",
    "path"
   ]
  },
  {
   "cell_type": "code",
   "execution_count": 72,
   "metadata": {},
   "outputs": [
    {
     "data": {
      "text/plain": [
       "[[1, 2, 3, 4, 5, 6, 7, 0, 8],\n",
       " [1, 2, 3, 4, 0, 6, 7, 5, 8],\n",
       " [1, 2, 3, 0, 4, 6, 7, 5, 8],\n",
       " [0, 2, 3, 1, 4, 6, 7, 5, 8]]"
      ]
     },
     "execution_count": 72,
     "metadata": {},
     "output_type": "execute_result"
    }
   ],
   "source": [
    "startState=[1, 2, 3, 4, 5, 6, 7, 0, 8]\n",
    "goalState=[0, 2, 3, 1, 4,  6, 7, 5, 8]\n",
    "path = iterativeDeepeningSearch(startState, goalState, actionsF_8p, takeActionF_8p, 5)\n",
    "path"
   ]
  },
  {
   "cell_type": "markdown",
   "metadata": {},
   "source": [
    "Let's print out the state sequence in a readable form."
   ]
  },
  {
   "cell_type": "code",
   "execution_count": 39,
   "metadata": {},
   "outputs": [
    {
     "name": "stdout",
     "output_type": "stream",
     "text": [
      "- 1 3  \n",
      "4 2 5  \n",
      "6 7 8  \n",
      "\n",
      "1 - 3  \n",
      "4 2 5  \n",
      "6 7 8  \n",
      "\n",
      "1 2 3  \n",
      "4 - 5  \n",
      "6 7 8  \n",
      "\n"
     ]
    }
   ],
   "source": [
    "for p in path:\n",
    "    printState_8p(p)\n",
    "    print()"
   ]
  },
  {
   "cell_type": "markdown",
   "metadata": {},
   "source": [
    "Here is one way to format the search problem and solution in a readable form."
   ]
  },
  {
   "cell_type": "code",
   "execution_count": 59,
   "metadata": {},
   "outputs": [
    {
     "name": "stdout",
     "output_type": "stream",
     "text": [
      "Path from\n",
      "2 7 3  \n",
      "8 4 6  \n",
      "- 1 5  \n",
      "to\n",
      "1 2 3  \n",
      "4 - 5  \n",
      "6 7 8  \n",
      "is  17  nodes long:\n",
      " \n",
      "2 7 3  \n",
      "8 4 6  \n",
      "- 1 5  \n",
      " \n",
      "2 7 3  \n",
      "8 4 6  \n",
      "1 - 5  \n",
      " \n",
      "2 7 3  \n",
      "8 - 6  \n",
      "1 4 5  \n",
      " \n",
      "2 7 3  \n",
      "- 8 6  \n",
      "1 4 5  \n",
      " \n",
      "2 7 3  \n",
      "1 8 6  \n",
      "- 4 5  \n",
      " \n",
      "2 7 3  \n",
      "1 8 6  \n",
      "4 - 5  \n",
      " \n",
      "2 7 3  \n",
      "1 - 6  \n",
      "4 8 5  \n",
      " \n",
      "2 7 3  \n",
      "1 6 -  \n",
      "4 8 5  \n",
      " \n",
      "2 7 3  \n",
      "1 6 5  \n",
      "4 8 -  \n",
      " \n",
      "2 7 3  \n",
      "1 6 5  \n",
      "4 - 8  \n",
      " \n",
      "2 7 3  \n",
      "1 - 5  \n",
      "4 6 8  \n",
      " \n",
      "2 - 3  \n",
      "1 7 5  \n",
      "4 6 8  \n",
      " \n",
      "- 2 3  \n",
      "1 7 5  \n",
      "4 6 8  \n",
      " \n",
      "1 2 3  \n",
      "- 7 5  \n",
      "4 6 8  \n",
      " \n",
      "1 2 3  \n",
      "4 7 5  \n",
      "- 6 8  \n",
      " \n",
      "1 2 3  \n",
      "4 7 5  \n",
      "6 - 8  \n",
      " \n",
      "1 2 3  \n",
      "4 - 5  \n",
      "6 7 8  \n"
     ]
    }
   ],
   "source": [
    "printPath_8p(startState, goalState, path)"
   ]
  }
 ],
 "metadata": {
  "anaconda-cloud": {},
  "kernelspec": {
   "display_name": "Python 3",
   "language": "python",
   "name": "python3"
  },
  "language_info": {
   "codemirror_mode": {
    "name": "ipython",
    "version": 3
   },
   "file_extension": ".py",
   "mimetype": "text/x-python",
   "name": "python",
   "nbconvert_exporter": "python",
   "pygments_lexer": "ipython3",
   "version": "3.7.3"
  }
 },
 "nbformat": 4,
 "nbformat_minor": 1
}
